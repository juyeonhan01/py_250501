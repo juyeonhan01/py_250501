{
 "cells": [
  {
   "cell_type": "code",
   "execution_count": 2,
   "id": "68dd2029",
   "metadata": {},
   "outputs": [
    {
     "data": {
      "text/plain": [
       "array([5, 5, 1, 3, 4, 2, 4, 0, 3, 5], dtype=int32)"
      ]
     },
     "execution_count": 2,
     "metadata": {},
     "output_type": "execute_result"
    }
   ],
   "source": [
    "#팬시 인덱싱\n",
    "import numpy as np\n",
    "fancy_list = np.random.choice(6,10)\n",
    "fancy_list"
   ]
  },
  {
   "cell_type": "code",
   "execution_count": 7,
   "id": "47d1304f",
   "metadata": {},
   "outputs": [
    {
     "data": {
      "text/plain": [
       "array([[ 4,  7,  5],\n",
       "       [20, 23, 21],\n",
       "       [28, 31, 29],\n",
       "       [ 8, 11,  9]])"
      ]
     },
     "execution_count": 7,
     "metadata": {},
     "output_type": "execute_result"
    }
   ],
   "source": [
    "arr = np.arange(32).reshape((8, 4))\n",
    "arr\n",
    "\n",
    "#1번 축 팬시 인덱싱\n",
    "arr[:, [0, 3, 1]]\n",
    "\n",
    "arr[[1,5,7,2]][:,[0,3,1]]"
   ]
  },
  {
   "cell_type": "code",
   "execution_count": 9,
   "id": "fd8330e3",
   "metadata": {},
   "outputs": [
    {
     "data": {
      "text/plain": [
       "array([[ 0,  1,  2,  3,  4,  5],\n",
       "       [10, 11, 12, 13, 14, 15],\n",
       "       [20, 21, 22, 23, 24, 25],\n",
       "       [30, 31, 32, 33, 34, 35],\n",
       "       [40, 41, 42, 43, 44, 45],\n",
       "       [50, 51, 52, 53, 54, 55]])"
      ]
     },
     "execution_count": 9,
     "metadata": {},
     "output_type": "execute_result"
    }
   ],
   "source": [
    "arr=np.arange(36).reshape(6,6)+np.arange(0,21,4).reshape(6,1)\n",
    "arr"
   ]
  },
  {
   "cell_type": "code",
   "execution_count": 10,
   "id": "36b74183",
   "metadata": {},
   "outputs": [],
   "source": [
    "#유니버설 함수: 어레이의 항목 각각에 대해 적용되는 함수이며 ufunc로 불린다. \n",
    "\n",
    "np.sqrt(arr)#squre root=제곱근\n",
    "\n",
    "#유니버셜 함수 생성: np,vectorize()\n",
    "def pos_neg(x):\n",
    "    return int(x>= 0)\n",
    "\n",
    "pos_neg_ufnc = np.vectorize(pos_neg)"
   ]
  },
  {
   "cell_type": "code",
   "execution_count": null,
   "id": "e0cdcb40",
   "metadata": {},
   "outputs": [
    {
     "data": {
      "text/plain": [
       "np.int64(5)"
      ]
     },
     "execution_count": 21,
     "metadata": {},
     "output_type": "execute_result"
    }
   ],
   "source": [
    "#기초 통계함수\n",
    "\n",
    "arr=np.arange(1,7).reshape(2,3)\n",
    "arr\n",
    "\n",
    "#maen() 메서드\n",
    "arr.mean()\n",
    "arr.sum\n",
    "\n",
    "#축 axis 활용\n",
    "#axis=0 행을 기준으로 함수 적용\n",
    "#axis=1 열을 기준으로 함수 적용\n",
    "\n",
    "\n",
    "#누적합\n",
    "arr.cumsum(axis=0)\n",
    "\n",
    "\n",
    "#누적곱\n",
    "arr.cumprod(axis=0)\n",
    "\n",
    "\n",
    "#mim()/max() 메서드: 항목 중에서 최솟값/최댓값 확인. 축 활용 가능.\n",
    "\n",
    "#argmin/argmax() 메서드: 최소 항목/최대항목이 위치한 곳의 인덱스 확인. 축 활용 가능\n",
    "\n"
   ]
  },
  {
   "cell_type": "code",
   "execution_count": null,
   "id": "3e338df2",
   "metadata": {},
   "outputs": [
    {
     "data": {
      "text/plain": [
       "np.float64(-1.6722442168593308)"
      ]
     },
     "execution_count": 29,
     "metadata": {},
     "output_type": "execute_result"
    }
   ],
   "source": [
    "#np.any() 함수 : 한개 이상의 어레이 항목이 참인지 여부를 판단하며 축을 기준으로 참, 거짓 여부를 판단할 수도 있다.\n",
    "\n",
    "#참인 항목의 개수: sum() 메서드 활용\n",
    "\n",
    "\n",
    "#예제\n",
    "# 어레이에 사용된 값들의 백분위수를 정렬을 이용하여 쉽게 구할 수 있다. \n",
    "# 예를 들어, 임의로 생성된 1,000개의 부동 소수점들 중에서 하위 5%에 해당하는 수를 구해보자.\n",
    "large_arr=np.random.randn(1000)\n",
    "large_arr.sort()\n",
    "five_from_bottom=int(0.05*len(large_arr))\n",
    "five_from_bottom\n",
    "\n",
    "large_arr[five_from_bottom]\n",
    "\n",
    "\n",
    "\n"
   ]
  },
  {
   "cell_type": "code",
   "execution_count": null,
   "id": "236bbc87",
   "metadata": {},
   "outputs": [
    {
     "data": {
      "image/png": "[encoded data removed]",
      "text/plain": [
       "<Figure size 640x480 with 1 Axes>"
      ]
     },
     "metadata": {},
     "output_type": "display_data"
    }
   ],
   "source": [
    "np.random.randn(5)\n",
    "\n",
    "np.random.seed(1000)\n",
    "\n",
    "samples = np.random.randn(1000)\n",
    "import matplotlib.pyplot as plt\n",
    "plt.hist(samples, bins=100)\n",
    "plt.show()"
   ]
  },
  {
   "cell_type": "code",
   "execution_count": 33,
   "id": "0ed4e88d",
   "metadata": {},
   "outputs": [
    {
     "data": {
      "text/plain": [
       "array([0, 1, 0, 1, 1], dtype=int32)"
      ]
     },
     "execution_count": 33,
     "metadata": {},
     "output_type": "execute_result"
    }
   ],
   "source": [
    "#실습) 어레이 중심 프로그래밍\n",
    "\n",
    "import numpy as np\n",
    "import matplotlib.pyplot as plt\n",
    "\n",
    "A=np.random.randint(0,2,5)\n",
    "A\n",
    "B=np.random.randint(0,2,5)\n",
    "B"
   ]
  },
  {
   "cell_type": "code",
   "execution_count": null,
   "id": "4c861138",
   "metadata": {},
   "outputs": [
    {
     "data": {
      "text/plain": [
       "array([[0.77132064, 0.02075195],\n",
       "       [0.63364823, 0.74880388],\n",
       "       [0.49850701, 0.22479665],\n",
       "       [0.19806286, 0.76053071],\n",
       "       [0.16911084, 0.08833981],\n",
       "       [0.68535982, 0.95339335],\n",
       "       [0.00394827, 0.51219226],\n",
       "       [0.81262096, 0.61252607],\n",
       "       [0.72175532, 0.29187607],\n",
       "       [0.91777412, 0.71457578]])"
      ]
     },
     "execution_count": 35,
     "metadata": {},
     "output_type": "execute_result"
    }
   ],
   "source": [
    "#문제 2\n",
    "#np.random.rand() 함수는 [0, 1) 구간에서 균등 분포를 따르는 부동소수점을 무작위로 선택하여 \n",
    "# 지정된 모양의 어레이를 생성한다.\n",
    "\n",
    "np.random.seed(10)\n",
    "Z=np.random.rand(10,2)\n",
    "Z"
   ]
  }
 ],
 "metadata": {
  "kernelspec": {
   "display_name": "Python 3",
   "language": "python",
   "name": "python3"
  },
  "language_info": {
   "codemirror_mode": {
    "name": "ipython",
    "version": 3
   },
   "file_extension": ".py",
   "mimetype": "text/x-python",
   "name": "python",
   "nbconvert_exporter": "python",
   "pygments_lexer": "ipython3",
   "version": "3.11.9"
  }
 },
 "nbformat": 4,
 "nbformat_minor": 5
}
