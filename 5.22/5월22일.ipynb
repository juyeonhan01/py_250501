{
 "cells": [
  {
   "cell_type": "code",
   "execution_count": null,
   "id": "4c409e43",
   "metadata": {},
   "outputs": [
    {
     "data": {
      "text/plain": [
       "array([ 0,  1,  2,  3,  4,  5,  6,  7,  8,  9, 10, 11, 12, 13, 14])"
      ]
     },
     "execution_count": 3,
     "metadata": {},
     "output_type": "execute_result"
    }
   ],
   "source": [
    "# 넘파이\n",
    "import numpy as np\n",
    "\n",
    "# 램덤 시드\n",
    "np.random.seed(12345)\n",
    "\n",
    "# 어레이 사용되는 부동소수점들의 정확도 지정\n",
    "np.set_printoptions(precision=4, suppress=True)\n",
    "\n",
    "# 파이플롯\n",
    "import matplotlib.pyplot as plt\n",
    "\n",
    "# 도표 크기 지정\n",
    "plt.rc('figure', figsize=(10, 6))\n",
    "\n",
    "#차원 추가와 삭제\n",
    "# reshape() 메서드와 함께 항목은 그대로 유지하면서 어레이의 모양만 변형시키는 방법으로 차원 추가와 삭제 기법이 활용된다.\n",
    "\n",
    "# 차원 추가\n",
    "# 어레이에 임의의 축을 추가하는 방식으로 차원이 하나 더 추가된 어레이를 생성할 수 있다. 어느 축을 추가하느냐에 따라 생성된 어레이의 모양은 달라진다.\n",
    "\n",
    "\n",
    "# 예제\n",
    "\n",
    "# 다음 길이가 3인 1차원 어레이를 이용하자.\n",
    "\n",
    "arr_1d = np.random.normal(size=3)\n",
    "arr_1d\n",
    "\n",
    "arr_1d[:, np.newaxis] # (3, 1)\n",
    "\n",
    "\n",
    "#차원 삭제\n",
    "arr=np.arange(15).reshape((5,3))\n",
    "arr\n",
    "\n",
    "arr2=arr.flatten()\n",
    "arr2\n",
    "\n"
   ]
  },
  {
   "cell_type": "code",
   "execution_count": 10,
   "id": "24f92261",
   "metadata": {},
   "outputs": [
    {
     "data": {
      "text/plain": [
       "array([[ 1,  2,  3],\n",
       "       [ 4,  5,  6],\n",
       "       [ 7,  8,  9],\n",
       "       [ 8,  9, 10],\n",
       "       [11, 12, 13],\n",
       "       [14, 15, 16]])"
      ]
     },
     "execution_count": 10,
     "metadata": {},
     "output_type": "execute_result"
    }
   ],
   "source": [
    "#어레이 쪼개기\n",
    "\n",
    "# np.split()함수\n",
    "\n",
    "# np.split(arr,[2,3]) #np.split(arr,[2,3], axis=0)\n",
    "\n",
    "#np.vsplit() / np.hsplit() 함수\n",
    "\n",
    "# np.vsplit(arr,z) := mnp.plit(arr,x,axis=1)\n",
    "\n",
    "\n",
    "#어레이 이어붙이기와 쌓기\n",
    "# np.concatenate() 함수\n",
    "\n",
    "arr1=np.array([[1,2,3],[4,5,6]])\n",
    "arr1\n",
    "arr2=np.array([[7,8,9],[8,9,10]])\n",
    "arr2\n",
    "arr3=np.array([[11,12,13],[14,15,16]])\n",
    "arr3\n",
    "np.concatenate([arr1,arr2,arr3],axis=0)"
   ]
  },
  {
   "cell_type": "code",
   "execution_count": null,
   "id": "b5d04b8c",
   "metadata": {},
   "outputs": [
    {
     "data": {
      "text/plain": [
       "array([[ 1,  2,  3,  7,  8,  9, 11, 12, 13],\n",
       "       [ 4,  5,  6,  8,  9, 10, 14, 15, 16]])"
      ]
     },
     "execution_count": 12,
     "metadata": {},
     "output_type": "execute_result"
    }
   ],
   "source": [
    "#np.vstack()/np.hstack() 함수\n",
    "# 두 함수는 np.concatenate() 함수에 축을 각각 0과 1로 지정한 함수이다.\n",
    "\n",
    "np.vstack((arr1,arr2,arr3))\n",
    "\n",
    "np.hstack((arr1, arr2, arr3))\n",
    "\n",
    "\n",
    "#브로드캐스팅: 브로드캐스팅broadcasting 모양이 서로 다른 두 어레이가 주어졌을 때 두 모양을 통일시킬 수 있다면 두 어레이의 연산이 가능하도록 도와주는 기능이다. "
   ]
  },
  {
   "cell_type": "code",
   "execution_count": null,
   "id": "5ab5771b",
   "metadata": {},
   "outputs": [
    {
     "data": {
      "image/png": "[encoded data removed]",
      "text/plain": [
       "<Figure size 500x500 with 1 Axes>"
      ]
     },
     "metadata": {},
     "output_type": "display_data"
    }
   ],
   "source": [
    "#행=관측치\n",
    "#열=피쳐\n",
    "points = np.arange(-1, 1.01, 0.2) ## (11, )\n",
    "\n",
    "points\n",
    "\n",
    "xs, ys = np.meshgrid(points, points)\n",
    "\n",
    "# 도표 크기 지정\n",
    "plt.rc('figure', figsize=(5, 5))\n",
    "\n",
    "# 산점도 그리기\n",
    "plt.scatter(xs, ys, c='darkgray')\n",
    "plt.show()"
   ]
  },
  {
   "cell_type": "code",
   "execution_count": null,
   "id": "51a5653b",
   "metadata": {},
   "outputs": [
    {
     "ename": "NameError",
     "evalue": "name 'iris_features' is not defined",
     "output_type": "error",
     "traceback": [
      "\u001b[31m---------------------------------------------------------------------------\u001b[39m",
      "\u001b[31mNameError\u001b[39m                                 Traceback (most recent call last)",
      "\u001b[36mCell\u001b[39m\u001b[36m \u001b[39m\u001b[32mIn[20]\u001b[39m\u001b[32m, line 18\u001b[39m\n\u001b[32m      1\u001b[39m \u001b[38;5;66;03m# 결측치 처리\u001b[39;00m\n\u001b[32m      2\u001b[39m \n\u001b[32m      3\u001b[39m \u001b[38;5;66;03m# np.isnan()함수: 어레이의 각각의 항목이 결측치인지 여부를 확인하는 부를 어레이로 반환\u001b[39;00m\n\u001b[32m   (...)\u001b[39m\u001b[32m     16\u001b[39m \n\u001b[32m     17\u001b[39m \u001b[38;5;66;03m#산점도 그리기\u001b[39;00m\n\u001b[32m---> \u001b[39m\u001b[32m18\u001b[39m X = \u001b[43miris_features\u001b[49m[:, \u001b[32m2\u001b[39m] \u001b[38;5;66;03m# 꽃잎 길이\u001b[39;00m\n\u001b[32m     19\u001b[39m Y = iris_features[:, \u001b[32m3\u001b[39m] \u001b[38;5;66;03m# 꽃잎 너비\u001b[39;00m\n\u001b[32m     21\u001b[39m plt.figure(figsize=(\u001b[32m10\u001b[39m, \u001b[32m5\u001b[39m))\n",
      "\u001b[31mNameError\u001b[39m: name 'iris_features' is not defined"
     ]
    }
   ],
   "source": [
    "# 결측치 처리\n",
    "\n",
    "# np.isnan()함수: 어레이의 각각의 항목이 결측치인지 여부를 확인하는 부를 어레이로 반환\n",
    "# any(): 어레이 메서드: 부울 어레이의 항목에 true가 하나라도 포함되어 있는지 여부 확인\n",
    "\n",
    "# np.isnan(iris_features).any(axis=0)\n",
    "\n",
    "# np.isnan(iris_features[:,3]).sum()\n",
    "\n",
    "#label,y = 정답지, 정답, 타겟\n",
    "#x=데이터, 관측치\n",
    "\n",
    "varieties=np.unique(iris_labels) #범주화\n",
    "varieties\n",
    "\n",
    "\n",
    "#산점도 그리기\n",
    "X = iris_features[:, 2] # 꽃잎 길이\n",
    "Y = iris_features[:, 3] # 꽃잎 너비\n",
    "\n",
    "plt.figure(figsize=(10, 5))\n",
    "\n",
    "plt.plot(X, Y, 'bo')\n",
    "# plt.plot(X, Y, color='blue', marker='o', linestyle='')\n",
    "\n",
    "plt.axis([0.5, 7, 0, 3])"
   ]
  }
 ],
 "metadata": {
  "kernelspec": {
   "display_name": "Python 3",
   "language": "python",
   "name": "python3"
  },
  "language_info": {
   "codemirror_mode": {
    "name": "ipython",
    "version": 3
   },
   "file_extension": ".py",
   "mimetype": "text/x-python",
   "name": "python",
   "nbconvert_exporter": "python",
   "pygments_lexer": "ipython3",
   "version": "3.11.9"
  }
 },
 "nbformat": 4,
 "nbformat_minor": 5
}
