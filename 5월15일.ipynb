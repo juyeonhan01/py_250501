{
 "cells": [
  {
   "cell_type": "code",
   "execution_count": 9,
   "id": "de4ecd7a",
   "metadata": {},
   "outputs": [
    {
     "data": {
      "text/plain": [
       "array([[ 0,  1,  2,  3],\n",
       "       [ 4,  5,  6,  7],\n",
       "       [ 8,  9, 10, 11],\n",
       "       [12, 13, 14, 15],\n",
       "       [16, 17, 18, 19]])"
      ]
     },
     "execution_count": 9,
     "metadata": {},
     "output_type": "execute_result"
    }
   ],
   "source": [
    "# #넘파이\n",
    "# import numpy as np\n",
    "\n",
    "# #랜덤 시드\n",
    "# np.random.seed(2026)\n",
    "\n",
    "# #예시: 소수점 3자리까지 출력하기\n",
    "# np.set_printoptions(precision=3)\n",
    "# arr = np.array([1.234567, 2.345678, 3.456789])\n",
    "# print(arr)\n",
    "\n",
    "# #리스트 활용\n",
    "# data2 = [6,7.5,8,0,1]\n",
    "# arr1=np.array(data2)\n",
    "# arr1\n",
    "\n",
    "\n",
    "arr = np.arange(20)\n",
    "arr.reshape((5,-1))"
   ]
  },
  {
   "cell_type": "code",
   "execution_count": 14,
   "id": "8dc725a8",
   "metadata": {},
   "outputs": [
    {
     "name": "stdout",
     "output_type": "stream",
     "text": [
      "[0 1 2 3 4 5 6 7 8 9]\n"
     ]
    },
    {
     "data": {
      "text/plain": [
       "array([5, 6, 7])"
      ]
     },
     "execution_count": 14,
     "metadata": {},
     "output_type": "execute_result"
    }
   ],
   "source": [
    "import numpy as np\n",
    "\n",
    "arr = np.array([0, 1, 2, 3, 4, 5, 6, 7, 8, 9])\n",
    "print(arr)\n",
    "\n",
    "arr_slice = arr[5:8]\n",
    "arr_slice\n"
   ]
  },
  {
   "cell_type": "code",
   "execution_count": null,
   "id": "d559439f",
   "metadata": {},
   "outputs": [
    {
     "data": {
      "text/plain": [
       "array([5, 6, 7])"
      ]
     },
     "execution_count": 18,
     "metadata": {},
     "output_type": "execute_result"
    }
   ],
   "source": [
    "#copy()매서드\n",
    "arr_slice2=arr[5:8].copy()\n",
    "arr_slice2\n"
   ]
  },
  {
   "cell_type": "code",
   "execution_count": 21,
   "id": "55cf67ca",
   "metadata": {},
   "outputs": [
    {
     "data": {
      "text/plain": [
       "array([1, 2, 3])"
      ]
     },
     "execution_count": 21,
     "metadata": {},
     "output_type": "execute_result"
    }
   ],
   "source": [
    "arr2d = np.array([[1, 2, 3], [4, 5, 6], [7, 8, 9]])\n",
    "arr2d\n",
    "\n",
    "arr2d[0]"
   ]
  },
  {
   "cell_type": "code",
   "execution_count": null,
   "id": "0528d8ed",
   "metadata": {},
   "outputs": [
    {
     "ename": "SyntaxError",
     "evalue": "invalid syntax (2820261697.py, line 18)",
     "output_type": "error",
     "traceback": [
      "  \u001b[36mCell\u001b[39m\u001b[36m \u001b[39m\u001b[32mIn[29]\u001b[39m\u001b[32m, line 18\u001b[39m\n\u001b[31m    \u001b[39m\u001b[31mimport scipy.datasetsface = scipy.datasets.face()\u001b[39m\n                              ^\n\u001b[31mSyntaxError\u001b[39m\u001b[31m:\u001b[39m invalid syntax\n"
     ]
    }
   ],
   "source": [
    "arr3d = np.array([[[1, 2, 3],\n",
    "                   [4, 5, 6]],\n",
    "\n",
    "                  [[7, 8, 9],\n",
    "                   [10, 11, 12]]])\n",
    "arr3d\n",
    "\n",
    "arr3d.shape\n",
    "\n",
    "arr3d[0]\n",
    "\n",
    "\n",
    "#기존 항목 기억해 두기\n",
    "old_values=arr3d[0].copy()\n"
   ]
  },
  {
   "cell_type": "markdown",
   "id": "5e5338fb",
   "metadata": {},
   "source": []
  },
  {
   "cell_type": "code",
   "execution_count": null,
   "id": "ee527910",
   "metadata": {},
   "outputs": [
    {
     "data": {
      "text/plain": [
       "array(['Bob', 'Joe', 'Will', 'Joe', 'Joe'], dtype='<U4')"
      ]
     },
     "execution_count": 43,
     "metadata": {},
     "output_type": "execute_result"
    }
   ],
   "source": [
    "names = np.array(['Bob','Joe','Will','Joe','Joe'])\n",
    "names\n",
    "\n"
   ]
  },
  {
   "cell_type": "code",
   "execution_count": 46,
   "id": "f9fcd4be",
   "metadata": {},
   "outputs": [
    {
     "name": "stdout",
     "output_type": "stream",
     "text": [
      "[[-0.432 -1.393  0.312 -0.013]\n",
      " [ 1.45   0.298 -0.83  -1.596]\n",
      " [ 0.613 -0.318 -0.074 -0.609]\n",
      " [-2.     0.908  0.483  0.222]\n",
      " [ 0.664 -1.246  1.969 -0.319]\n",
      " [ 0.36   0.746 -2.725  1.675]\n",
      " [ 0.056 -1.699 -0.361  2.73 ]]\n"
     ]
    }
   ],
   "source": [
    "import numpy as np\n",
    "\n",
    "# 7x4 크기의 정규분포 난수 배열 생성\n",
    "data = np.random.randn(7, 4)\n",
    "print(data)"
   ]
  }
 ],
 "metadata": {
  "kernelspec": {
   "display_name": "Python 3",
   "language": "python",
   "name": "python3"
  },
  "language_info": {
   "codemirror_mode": {
    "name": "ipython",
    "version": 3
   },
   "file_extension": ".py",
   "mimetype": "text/x-python",
   "name": "python",
   "nbconvert_exporter": "python",
   "pygments_lexer": "ipython3",
   "version": "3.11.9"
  }
 },
 "nbformat": 4,
 "nbformat_minor": 5
}
