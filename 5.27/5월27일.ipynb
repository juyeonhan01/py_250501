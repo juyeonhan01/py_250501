{
 "cells": [
  {
   "cell_type": "code",
   "execution_count": 2,
   "id": "1187ca84",
   "metadata": {},
   "outputs": [],
   "source": [
    "# pandas 라이브러리는 보통 pd 라는 별칭으로 사용된다.\n",
    "# import pandas as pd\n",
    "# import numpy as np\n",
    "\n",
    "\n",
    "\n",
    "# 판다스Pandas는 넘파이와 함께 데이터 분석 분야에서 가장 많이 활용되는 라이브러리다. \n",
    "# 시리즈는 1차원 어레이와 동일한 구조를 갖는다. 다만 인덱스index를 0, 1, 2 등이 아닌 임의의 값으로 지정할 수 있다. 시리즈를 생성하기 위해 리스트, 넘파이 1차원 어레이, 사전 등을 이용할 수 있다.\n",
    "\n",
    "# values 속성은 시리즈의 항목으로 구성된 1차원 어레이를 가리킨다.\n",
    "\n",
    "# index 속성은 인덱스로 사용된 값들로 구성된 Index 객체를 가리킨다. 자동으로 생성된 경우 정수 인덱스는 range와 유사한 RangeIndex 자료형으로 지정된다."
   ]
  },
  {
   "cell_type": "code",
   "execution_count": 3,
   "id": "bceea92c",
   "metadata": {},
   "outputs": [
    {
     "ename": "NameError",
     "evalue": "name 'pd' is not defined",
     "output_type": "error",
     "traceback": [
      "\u001b[31m---------------------------------------------------------------------------\u001b[39m",
      "\u001b[31mNameError\u001b[39m                                 Traceback (most recent call last)",
      "\u001b[36mCell\u001b[39m\u001b[36m \u001b[39m\u001b[32mIn[3]\u001b[39m\u001b[32m, line 5\u001b[39m\n\u001b[32m      1\u001b[39m \u001b[38;5;66;03m# method 키워드 인자 활용\u001b[39;00m\n\u001b[32m      2\u001b[39m \n\u001b[32m      3\u001b[39m \u001b[38;5;66;03m# 인덱스가 오름 또는 내림 차순으로 정렬되어 있는 경우에 method 키워드 인자를 이용하여 결측치를 주변 값으로 채울 수 있다. 설명을 위해 아래 시리즈를 이용한다.\u001b[39;00m\n\u001b[32m----> \u001b[39m\u001b[32m5\u001b[39m obj5 = \u001b[43mpd\u001b[49m.Series([\u001b[33m'\u001b[39m\u001b[33mblue\u001b[39m\u001b[33m'\u001b[39m, \u001b[33m'\u001b[39m\u001b[33mpurple\u001b[39m\u001b[33m'\u001b[39m, \u001b[33m'\u001b[39m\u001b[33myellow\u001b[39m\u001b[33m'\u001b[39m], index=[\u001b[32m0\u001b[39m, \u001b[32m2\u001b[39m, \u001b[32m5\u001b[39m])\n\u001b[32m      7\u001b[39m obj5.reindex(\u001b[38;5;28mrange\u001b[39m(-\u001b[32m1\u001b[39m, \u001b[32m6\u001b[39m), method=\u001b[33m'\u001b[39m\u001b[33mffill\u001b[39m\u001b[33m'\u001b[39m) \u001b[38;5;66;03m#method=fulfill: 결측치를 위쪽으로 가장 가깝게 위치한 값으로 채운다. 위쪽에 위치한 값이 없으면 결측치가 된다. \u001b[39;00m\n\u001b[32m      9\u001b[39m obj5.reindex(\u001b[38;5;28mrange\u001b[39m(-\u001b[32m1\u001b[39m, \u001b[32m6\u001b[39m), method=\u001b[33m'\u001b[39m\u001b[33mbfill\u001b[39m\u001b[33m'\u001b[39m) \u001b[38;5;66;03m#forward fill -> 데이터 선형일 때(ex. 온도)\u001b[39;00m\n",
      "\u001b[31mNameError\u001b[39m: name 'pd' is not defined"
     ]
    }
   ],
   "source": [
    "# method 키워드 인자 활용\n",
    "\n",
    "# 인덱스가 오름 또는 내림 차순으로 정렬되어 있는 경우에 method 키워드 인자를 이용하여 결측치를 주변 값으로 채울 수 있다. 설명을 위해 아래 시리즈를 이용한다.\n",
    "\n",
    "obj5 = pd.Series(['blue', 'purple', 'yellow'], index=[0, 2, 5])\n",
    "\n",
    "obj5.reindex(range(-1, 6), method='ffill') #method=fulfill: 결측치를 위쪽으로 가장 가깝게 위치한 값으로 채운다. 위쪽에 위치한 값이 없으면 결측치가 된다. \n",
    "\n",
    "obj5.reindex(range(-1, 6), method='bfill') #forward fill -> 데이터 선형일 때(ex. 온도)\n",
    "\n",
    "obj5.reindex(range(-1, 6), method='bfill')\n",
    "\n",
    "obj5.reindex(range(-1, 6), method='nearest')\n"
   ]
  },
  {
   "cell_type": "code",
   "execution_count": null,
   "id": "99111d4f",
   "metadata": {},
   "outputs": [
    {
     "ename": "NameError",
     "evalue": "name 'pd' is not defined",
     "output_type": "error",
     "traceback": [
      "\u001b[31m---------------------------------------------------------------------------\u001b[39m",
      "\u001b[31mNameError\u001b[39m                                 Traceback (most recent call last)",
      "\u001b[36mCell\u001b[39m\u001b[36m \u001b[39m\u001b[32mIn[5]\u001b[39m\u001b[32m, line 8\u001b[39m\n\u001b[32m      1\u001b[39m \u001b[38;5;66;03m#name속성\u001b[39;00m\n\u001b[32m      3\u001b[39m dict3 = {\u001b[33m'\u001b[39m\u001b[33mNevada\u001b[39m\u001b[33m'\u001b[39m: {\u001b[32m2001\u001b[39m: \u001b[32m2.4\u001b[39m, \u001b[32m2002\u001b[39m: \u001b[32m2.9\u001b[39m},\n\u001b[32m      4\u001b[39m          \u001b[33m'\u001b[39m\u001b[33mOhio\u001b[39m\u001b[33m'\u001b[39m: {\u001b[32m2000\u001b[39m: \u001b[32m1.5\u001b[39m, \u001b[32m2001\u001b[39m: \u001b[32m1.7\u001b[39m, \u001b[32m2002\u001b[39m: \u001b[32m3.6\u001b[39m}}\n\u001b[32m----> \u001b[39m\u001b[32m8\u001b[39m frame3 = \u001b[43mpd\u001b[49m.DataFrame(dict3)\n\u001b[32m      9\u001b[39m frame3\n\u001b[32m     12\u001b[39m frame3.index.name = \u001b[33m'\u001b[39m\u001b[33myear\u001b[39m\u001b[33m'\u001b[39m      \u001b[38;5;66;03m# 행 이름 지정\u001b[39;00m\n",
      "\u001b[31mNameError\u001b[39m: name 'pd' is not defined"
     ]
    }
   ],
   "source": [
    "#name속성\n",
    "\n",
    "dict3 = {'Nevada': {2001: 2.4, 2002: 2.9},\n",
    "         'Ohio': {2000: 1.5, 2001: 1.7, 2002: 3.6}}\n",
    "\n",
    "\n",
    "\n",
    "frame3 = pd.DataFrame(dict3)\n",
    "frame3\n",
    "\n",
    "\n",
    "frame3.index.name = 'year'      # 행 이름 지정\n",
    "frame3.columns.name = 'state'   # 열 이름 지정\n",
    "frame3\n",
    "\n",
    "\n",
    "\n",
    "#rename() 매서드\n",
    "\n",
    "frame2_index=frame2.rename(index-['one': 'ONE', 'three', 'TREE'])\n",
    "frame2_index\n",
    "\n"
   ]
  },
  {
   "cell_type": "code",
   "execution_count": null,
   "id": "5ae7f4a0",
   "metadata": {},
   "outputs": [
    {
     "ename": "NameError",
     "evalue": "name 'frame2' is not defined",
     "output_type": "error",
     "traceback": [
      "\u001b[31m---------------------------------------------------------------------------\u001b[39m",
      "\u001b[31mNameError\u001b[39m                                 Traceback (most recent call last)",
      "\u001b[36mCell\u001b[39m\u001b[36m \u001b[39m\u001b[32mIn[6]\u001b[39m\u001b[32m, line 4\u001b[39m\n\u001b[32m      1\u001b[39m \u001b[38;5;66;03m# ***데이터셋 불러오기와 저장하기\u001b[39;00m\n\u001b[32m      2\u001b[39m \n\u001b[32m      3\u001b[39m \u001b[38;5;66;03m# csv파일로 저장하기\u001b[39;00m\n\u001b[32m----> \u001b[39m\u001b[32m4\u001b[39m \u001b[43mframe2\u001b[49m.to_csv(\u001b[33m'\u001b[39m\u001b[33mframe2.csv\u001b[39m\u001b[33m'\u001b[39m)\n\u001b[32m      6\u001b[39m \u001b[38;5;66;03m# csv파일 불러오기\u001b[39;00m\n\u001b[32m      7\u001b[39m pd.read_csv(\u001b[33m'\u001b[39m\u001b[33mframe2.csv\u001b[39m\u001b[33m'\u001b[39m)\n",
      "\u001b[31mNameError\u001b[39m: name 'frame2' is not defined"
     ]
    }
   ],
   "source": [
    "# ***데이터셋 불러오기와 저장하기\n",
    "\n",
    "# csv파일로 저장하기\n",
    "frame2.to_csv('frame2.csv')\n",
    "\n",
    "# csv파일 불러오기\n",
    "pd.read_csv('frame2.csv')\n",
    "\n",
    "#엑셀파일로 저장하기\n",
    "frame2.to_excel('frame2.xisx',sheet_name='SHEET1')\n",
    "\n",
    "#엑셀파일 불러오기\n",
    "pd.read_excel('frame2.xisx','abs', index_col=None, na_values=['NA'])\n"
   ]
  },
  {
   "cell_type": "code",
   "execution_count": null,
   "id": "1ee7f262",
   "metadata": {},
   "outputs": [],
   "source": [
    "# 데이터프레임 인덱싱\n",
    "\n",
    "# series와 dataframe 객체를 다루는 다양한 도구\n",
    "# -인덱싱\n",
    "# -슬라이싱\n",
    "# -결측치 처리\n",
    "\n",
    "\n",
    "#iloc[]\n",
    "obj.iloc[1] #loc=행,integer\n",
    "\n",
    "\n",
    "\n"
   ]
  }
 ],
 "metadata": {
  "kernelspec": {
   "display_name": "Python 3",
   "language": "python",
   "name": "python3"
  },
  "language_info": {
   "codemirror_mode": {
    "name": "ipython",
    "version": 3
   },
   "file_extension": ".py",
   "mimetype": "text/x-python",
   "name": "python",
   "nbconvert_exporter": "python",
   "pygments_lexer": "ipython3",
   "version": "3.11.9"
  }
 },
 "nbformat": 4,
 "nbformat_minor": 5
}
