{
 "cells": [
  {
   "cell_type": "code",
   "execution_count": null,
   "id": "de4ecd7a",
   "metadata": {},
   "outputs": [],
   "source": [
    "#넘파이\n",
    "import numpy as np\n",
    "\n",
    "#랜덤 시드\n",
    "np.random.seed(2026)\n",
    "\n",
    "#어레이에 포함된 부동소수점들의 표현 정확도 지정\n",
    "np.set_printoptions()"
   ]
  }
 ],
 "metadata": {
  "language_info": {
   "name": "python"
  }
 },
 "nbformat": 4,
 "nbformat_minor": 5
}
